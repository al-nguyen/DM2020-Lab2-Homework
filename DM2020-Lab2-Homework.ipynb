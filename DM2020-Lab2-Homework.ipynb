{
 "cells": [
  {
   "cell_type": "markdown",
   "metadata": {},
   "source": [
    "### Student Information\n",
    "Name: **Nguyen Anh Loc - 阮英祿**\n",
    "\n",
    "Student ID: **109065421**\n",
    "\n",
    "GitHub ID: **72379649**\n",
    "\n",
    "Kaggle name: **AL Nguyen**\n",
    "\n",
    "Kaggle private scoreboard snapshot:\n",
    "\n",
    "![Snapshot](pics/kaggle.png)"
   ]
  },
  {
   "cell_type": "markdown",
   "metadata": {},
   "source": [
    "---"
   ]
  },
  {
   "cell_type": "markdown",
   "metadata": {},
   "source": [
    "### Instructions"
   ]
  },
  {
   "cell_type": "markdown",
   "metadata": {},
   "source": [
    "1. First: __This part is worth 30% of your grade.__ Do the **take home** exercises in the [DM2020-Lab2-Master Repo](https://github.com/fhcalderon87/DM2020-Lab2-Master). You may need to copy some cells from the Lab notebook to this notebook. \n",
    "\n",
    "\n",
    "2. Second: __This part is worth 30% of your grade.__ Participate in the in-class [Kaggle Competition](https://www.kaggle.com/c/dm2020-hw2-nthu/) regarding Emotion Recognition on Twitter. The scoring will be given according to your place in the Private Leaderboard ranking: \n",
    "    - **Bottom 40%**: Get 20% of the score (ie. 20% of 30% )\n",
    "\n",
    "    - **Top 41% - 100%**: Get (101-x)% of the score, where x is your ranking in the leaderboard (ie. (101-x)% of 30% )   \n",
    "    Submit your last submission __BEFORE the deadline (Dec. 5th 11:59 pm, Saturday)__. Make sure to take a screenshot of your position at the end of the competition and store it as '''pic0.png''' under the **img** folder of this repository and rerun the cell **Student Information**.\n",
    "    \n",
    "\n",
    "3. Third: __This part is worth 30% of your grade.__ A report of your work developping the model for the competition (You can use code and comment it). This report should include what your preprocessing steps, the feature engineering steps and an explanation of your model. You can also mention different things you tried and insights you gained. \n",
    "\n",
    "\n",
    "4. Fourth: __This part is worth 10% of your grade.__ It's hard for us to follow if your code is messy :'(, so please **tidy up your notebook** and **add minimal comments where needed**.\n",
    "\n",
    "\n",
    "You can submit your homework following these guidelines: [Git Intro & How to hand your homework](https://github.com/fhcalderon87/DM2020-Lab1-Master/blob/master/Git%20Intro%20%26%20How%20to%20hand%20your%20homework.ipynb), but make sure to fork the [DM2020-Lab2-Homework](https://github.com/fhcalderon87/DM2020-Lab2-Homework) repository this time! Also please __DON´T UPLOAD HUGE DOCUMENTS__, please use Git ignore for that.\n",
    "\n",
    "Make sure to commit and save your changes to your repository __BEFORE the deadline (Dec. 8th 11:59 pm, Tuesday)__. "
   ]
  },
  {
   "cell_type": "code",
   "execution_count": 1,
   "metadata": {},
   "outputs": [],
   "source": [
    "### Begin Assignment Here"
   ]
  },
  {
   "cell_type": "markdown",
   "metadata": {},
   "source": [
    "---\n",
    "---\n",
    "# I. TAKE HOME Exercises"
   ]
  },
  {
   "cell_type": "markdown",
   "metadata": {},
   "source": [
    "## Data Preparation"
   ]
  },
  {
   "cell_type": "code",
   "execution_count": 2,
   "metadata": {},
   "outputs": [],
   "source": [
    "import pandas as pd\n",
    "\n",
    "### training data\n",
    "anger_train = pd.read_csv(\"/Users/locnguyen/github/dm2020_lab2_master/data/semeval/train/anger-ratings-0to1.train.txt\",\n",
    "                         sep=\"\\t\", header=None,names=[\"id\", \"text\", \"emotion\", \"intensity\"])\n",
    "sadness_train = pd.read_csv(\"/Users/locnguyen/github/dm2020_lab2_master/data/semeval/train/sadness-ratings-0to1.train.txt\",\n",
    "                         sep=\"\\t\", header=None, names=[\"id\", \"text\", \"emotion\", \"intensity\"])\n",
    "fear_train = pd.read_csv(\"/Users/locnguyen/github/dm2020_lab2_master/data/semeval/train/fear-ratings-0to1.train.txt\",\n",
    "                         sep=\"\\t\", header=None, names=[\"id\", \"text\", \"emotion\", \"intensity\"])\n",
    "joy_train = pd.read_csv(\"/Users/locnguyen/github/dm2020_lab2_master/data/semeval/train/joy-ratings-0to1.train.txt\",\n",
    "                         sep=\"\\t\", header=None, names=[\"id\", \"text\", \"emotion\", \"intensity\"])"
   ]
  },
  {
   "cell_type": "code",
   "execution_count": 3,
   "metadata": {},
   "outputs": [],
   "source": [
    "# combine 4 sub-dataset\n",
    "train_df = pd.concat([anger_train, fear_train, joy_train, sadness_train], ignore_index=True)"
   ]
  },
  {
   "cell_type": "code",
   "execution_count": 4,
   "metadata": {
    "scrolled": true
   },
   "outputs": [
    {
     "data": {
      "text/html": [
       "<div>\n",
       "<style scoped>\n",
       "    .dataframe tbody tr th:only-of-type {\n",
       "        vertical-align: middle;\n",
       "    }\n",
       "\n",
       "    .dataframe tbody tr th {\n",
       "        vertical-align: top;\n",
       "    }\n",
       "\n",
       "    .dataframe thead th {\n",
       "        text-align: right;\n",
       "    }\n",
       "</style>\n",
       "<table border=\"1\" class=\"dataframe\">\n",
       "  <thead>\n",
       "    <tr style=\"text-align: right;\">\n",
       "      <th></th>\n",
       "      <th>id</th>\n",
       "      <th>text</th>\n",
       "      <th>emotion</th>\n",
       "      <th>intensity</th>\n",
       "    </tr>\n",
       "  </thead>\n",
       "  <tbody>\n",
       "    <tr>\n",
       "      <th>0</th>\n",
       "      <td>10000</td>\n",
       "      <td>How the fu*k! Who the heck! moved my fridge!.....</td>\n",
       "      <td>anger</td>\n",
       "      <td>0.938</td>\n",
       "    </tr>\n",
       "    <tr>\n",
       "      <th>1</th>\n",
       "      <td>10001</td>\n",
       "      <td>So my Indian Uber driver just called someone t...</td>\n",
       "      <td>anger</td>\n",
       "      <td>0.896</td>\n",
       "    </tr>\n",
       "    <tr>\n",
       "      <th>2</th>\n",
       "      <td>10002</td>\n",
       "      <td>@DPD_UK I asked for my parcel to be delivered ...</td>\n",
       "      <td>anger</td>\n",
       "      <td>0.896</td>\n",
       "    </tr>\n",
       "    <tr>\n",
       "      <th>3</th>\n",
       "      <td>10003</td>\n",
       "      <td>so ef whichever butt wipe pulled the fire alar...</td>\n",
       "      <td>anger</td>\n",
       "      <td>0.896</td>\n",
       "    </tr>\n",
       "    <tr>\n",
       "      <th>4</th>\n",
       "      <td>10004</td>\n",
       "      <td>Don't join @BTCare they put the phone down on ...</td>\n",
       "      <td>anger</td>\n",
       "      <td>0.896</td>\n",
       "    </tr>\n",
       "  </tbody>\n",
       "</table>\n",
       "</div>"
      ],
      "text/plain": [
       "      id                                               text emotion  intensity\n",
       "0  10000  How the fu*k! Who the heck! moved my fridge!.....   anger      0.938\n",
       "1  10001  So my Indian Uber driver just called someone t...   anger      0.896\n",
       "2  10002  @DPD_UK I asked for my parcel to be delivered ...   anger      0.896\n",
       "3  10003  so ef whichever butt wipe pulled the fire alar...   anger      0.896\n",
       "4  10004  Don't join @BTCare they put the phone down on ...   anger      0.896"
      ]
     },
     "execution_count": 4,
     "metadata": {},
     "output_type": "execute_result"
    }
   ],
   "source": [
    "### testing data\n",
    "anger_test = pd.read_csv(\"/Users/locnguyen/github/dm2020_lab2_master/data/semeval/dev/anger-ratings-0to1.dev.gold.txt\",\n",
    "                         sep=\"\\t\", header=None, names=[\"id\", \"text\", \"emotion\", \"intensity\"])\n",
    "sadness_test = pd.read_csv(\"/Users/locnguyen/github/dm2020_lab2_master/data/semeval/dev/sadness-ratings-0to1.dev.gold.txt\",\n",
    "                         sep=\"\\t\", header=None, names=[\"id\", \"text\", \"emotion\", \"intensity\"])\n",
    "fear_test = pd.read_csv(\"/Users/locnguyen/github/dm2020_lab2_master/data/semeval/dev/fear-ratings-0to1.dev.gold.txt\",\n",
    "                         sep=\"\\t\", header=None, names=[\"id\", \"text\", \"emotion\", \"intensity\"])\n",
    "joy_test = pd.read_csv(\"/Users/locnguyen/github/dm2020_lab2_master/data/semeval/dev/joy-ratings-0to1.dev.gold.txt\",\n",
    "                         sep=\"\\t\", header=None, names=[\"id\", \"text\", \"emotion\", \"intensity\"])\n",
    "\n",
    "# combine 4 sub-dataset\n",
    "test_df = pd.concat([anger_test, fear_test, joy_test, sadness_test], ignore_index=True)\n",
    "train_df.head()"
   ]
  },
  {
   "cell_type": "markdown",
   "metadata": {},
   "source": [
    "---\n",
    "## **<span style=\"color:red\">Exercise 1:</span>**  \n",
    "Plot word frequency for Top 30 words in both train and test dataset. (Hint: refer to DM lab 1)\n"
   ]
  },
  {
   "cell_type": "code",
   "execution_count": 5,
   "metadata": {},
   "outputs": [],
   "source": [
    "import numpy as np\n",
    "import matplotlib.pyplot as plt\n",
    "from sklearn.feature_extraction.text import CountVectorizer\n",
    "\n",
    "count_vect = CountVectorizer()\n",
    "train_counts = count_vect.fit_transform(train_df.text)"
   ]
  },
  {
   "cell_type": "code",
   "execution_count": 6,
   "metadata": {},
   "outputs": [
    {
     "data": {
      "text/plain": [
       "array([2, 1, 1, ..., 2, 2, 1], dtype=int64)"
      ]
     },
     "execution_count": 6,
     "metadata": {},
     "output_type": "execute_result"
    }
   ],
   "source": [
    "term_frequencies = []\n",
    "for j in range(0,train_counts.shape[1]):\n",
    "    term_frequencies.append(sum(train_counts[:,j].toarray()))\n",
    "    \n",
    "term_frequencies = np.asarray(train_counts.sum(axis=0))[0]\n",
    "term_frequencies"
   ]
  },
  {
   "cell_type": "code",
   "execution_count": 7,
   "metadata": {
    "scrolled": false
   },
   "outputs": [
    {
     "data": {
      "image/png": "[encoded data removed]",
      "text/plain": [
       "<Figure size 936x360 with 1 Axes>"
      ]
     },
     "metadata": {
      "needs_background": "light"
     },
     "output_type": "display_data"
    }
   ],
   "source": [
    "import seaborn as sns\n",
    "g=pd.DataFrame()\n",
    "g['term'] = count_vect.get_feature_names()\n",
    "g['counts'] = term_frequencies\n",
    "\n",
    "g.sort_values(by='counts',ascending=False, inplace=True)\n",
    "\n",
    "plt.subplots(figsize=(13,5))\n",
    "ax = sns.barplot(x=g.term[:30],y=g.counts[:30])\n",
    "plt.show()"
   ]
  },
  {
   "cell_type": "code",
   "execution_count": 8,
   "metadata": {},
   "outputs": [],
   "source": [
    "test_counts = count_vect.fit_transform(test_df.text)"
   ]
  },
  {
   "cell_type": "code",
   "execution_count": 9,
   "metadata": {},
   "outputs": [
    {
     "data": {
      "image/png": "[encoded data removed]",
      "text/plain": [
       "<Figure size 936x360 with 1 Axes>"
      ]
     },
     "metadata": {
      "needs_background": "light"
     },
     "output_type": "display_data"
    }
   ],
   "source": [
    "term_frequencies = []\n",
    "for j in range(0,test_counts.shape[1]):\n",
    "    term_frequencies.append(sum(test_counts[:,j].toarray()))\n",
    "    \n",
    "term_frequencies = np.asarray(test_counts.sum(axis=0))[0]\n",
    "term_frequencies\n",
    "\n",
    "g=pd.DataFrame()\n",
    "g['term'] = count_vect.get_feature_names()\n",
    "g['counts'] = term_frequencies\n",
    "\n",
    "g.sort_values(by='counts',ascending=False, inplace=True)\n",
    "plt.subplots(figsize=(13,5))\n",
    "ax = sns.barplot(x=g.term[:30],y=g.counts[:30])\n",
    "plt.show()"
   ]
  },
  {
   "cell_type": "markdown",
   "metadata": {},
   "source": [
    "---\n",
    "## **<span style=\"color:red\">Exercise 2:</span>**  \n",
    "Generate an embedding using the TF-IDF vectorizer instead of th BOW one with 1000 features and show the feature names for features [100:110]."
   ]
  },
  {
   "cell_type": "code",
   "execution_count": 10,
   "metadata": {},
   "outputs": [
    {
     "data": {
      "text/plain": [
       "['bitter',\n",
       " 'black',\n",
       " 'blacks',\n",
       " 'blame',\n",
       " 'blessed',\n",
       " 'blood',\n",
       " 'bloody',\n",
       " 'blues',\n",
       " 'body',\n",
       " 'boiling']"
      ]
     },
     "execution_count": 10,
     "metadata": {},
     "output_type": "execute_result"
    }
   ],
   "source": [
    "from sklearn.feature_extraction.text import TfidfVectorizer\n",
    "tfvec = TfidfVectorizer(max_features=1000)\n",
    "df_tfvec = tfvec.fit_transform(train_df.text)\n",
    "tfvec.get_feature_names()[100:110]"
   ]
  },
  {
   "cell_type": "markdown",
   "metadata": {},
   "source": [
    "---\n",
    "## **<span style=\"color:red\">Exercise 3:</span>**  \n",
    "Can you interpret the results above? What do they mean?"
   ]
  },
  {
   "cell_type": "markdown",
   "metadata": {},
   "source": [
    "1. The test accuracy score is not really good but it's quite acceptable enough. But there is a significant gap between train accuracy score and test accuracy score, which should be an overfitting. The model need to do some techniques to solve the overfitting problem, including pruning or other regularization techniques.\n",
    "![Snapshot](pics/acc.png)\n",
    "\n",
    "2. There is a similarity between the accuracy score and the F1 score (~0.66). Also, looking into confusion matrix also provide us an understanding of how good the classifier is, which is expected to a confusion matrix where we have values only on the diagonal.\n",
    "![Snapshot](pics/report.png)\n",
    "![Snapshot](pics/confusion_matrix.png)"
   ]
  },
  {
   "cell_type": "markdown",
   "metadata": {},
   "source": [
    "---\n",
    "## **<span style=\"color:red\">Exercise 4:</span>**  \n",
    "Build a model using a ```Naive Bayes``` model and train it. What are the testing results? \n",
    "\n",
    "*Reference*: https://scikit-learn.org/stable/modules/generated/sklearn.naive_bayes.MultinomialNB.html"
   ]
  },
  {
   "cell_type": "code",
   "execution_count": 11,
   "metadata": {},
   "outputs": [
    {
     "name": "stderr",
     "output_type": "stream",
     "text": [
      "/Library/Frameworks/Python.framework/Versions/3.8/lib/python3.8/site-packages/sklearn/feature_extraction/text.py:484: UserWarning: The parameter 'token_pattern' will not be used since 'tokenizer' is not None'\n",
      "  warnings.warn(\"The parameter 'token_pattern' will not be used\"\n"
     ]
    },
    {
     "data": {
      "text/plain": [
       "CountVectorizer(max_features=500,\n",
       "                tokenizer=<function word_tokenize at 0x7ff560e22550>)"
      ]
     },
     "execution_count": 11,
     "metadata": {},
     "output_type": "execute_result"
    }
   ],
   "source": [
    "import nltk\n",
    "\n",
    "# build analyzers (bag-of-words)\n",
    "BOW_500 = CountVectorizer(max_features=500, tokenizer=nltk.word_tokenize) \n",
    "\n",
    "# apply analyzer to training data\n",
    "BOW_500.fit(train_df['text'])"
   ]
  },
  {
   "cell_type": "code",
   "execution_count": 12,
   "metadata": {},
   "outputs": [
    {
     "data": {
      "text/plain": [
       "array(['fear', 'anger', 'anger', 'anger', 'sadness', 'anger', 'anger',\n",
       "       'anger', 'anger', 'anger'], dtype='<U7')"
      ]
     },
     "execution_count": 12,
     "metadata": {},
     "output_type": "execute_result"
    }
   ],
   "source": [
    "from sklearn.naive_bayes import MultinomialNB\n",
    "\n",
    "# for a classificaiton problem, you need to provide both training & testing data\n",
    "X_train = BOW_500.transform(train_df['text'])\n",
    "y_train = train_df['emotion']\n",
    "\n",
    "X_test = BOW_500.transform(test_df['text'])\n",
    "y_test = test_df['emotion']\n",
    "\n",
    "## build model\n",
    "NB_model = MultinomialNB()\n",
    "\n",
    "## training!\n",
    "NB_model = NB_model.fit(X_train, y_train)\n",
    "\n",
    "## predict!\n",
    "y_train_pred = NB_model.predict(X_train)\n",
    "y_test_pred = NB_model.predict(X_test)\n",
    "\n",
    "## so we get the pred result\n",
    "y_test_pred[:10]"
   ]
  },
  {
   "cell_type": "code",
   "execution_count": 13,
   "metadata": {},
   "outputs": [
    {
     "name": "stdout",
     "output_type": "stream",
     "text": [
      "training accuracy: 0.79\n",
      "testing accuracy: 0.69\n"
     ]
    }
   ],
   "source": [
    "from sklearn.metrics import accuracy_score\n",
    "\n",
    "acc_train = accuracy_score(y_true=y_train, y_pred=y_train_pred)\n",
    "acc_test = accuracy_score(y_true=y_test, y_pred=y_test_pred)\n",
    "\n",
    "print('training accuracy: {}'.format(round(acc_train, 2)))\n",
    "print('testing accuracy: {}'.format(round(acc_test, 2)))"
   ]
  },
  {
   "cell_type": "code",
   "execution_count": 14,
   "metadata": {},
   "outputs": [
    {
     "name": "stdout",
     "output_type": "stream",
     "text": [
      "              precision    recall  f1-score   support\n",
      "\n",
      "       anger       0.65      0.65      0.65        84\n",
      "        fear       0.72      0.77      0.75       110\n",
      "         joy       0.76      0.70      0.73        79\n",
      "     sadness       0.63      0.62      0.63        74\n",
      "\n",
      "    accuracy                           0.69       347\n",
      "   macro avg       0.69      0.69      0.69       347\n",
      "weighted avg       0.70      0.69      0.69       347\n",
      "\n"
     ]
    }
   ],
   "source": [
    "from sklearn.metrics import classification_report\n",
    "\n",
    "print(classification_report(y_true=y_test, y_pred=y_test_pred))"
   ]
  },
  {
   "cell_type": "markdown",
   "metadata": {},
   "source": [
    "Testing accuracy score is slightly higher than that of Decision Tree (DT) model (0.69 > 0.66). Also, the gap between training accuracy and testing accuracy is smaller than DT model but it still shows that the model has the overfitting problem."
   ]
  },
  {
   "cell_type": "markdown",
   "metadata": {},
   "source": [
    "---\n",
    "## **<span style=\"color:red\">Exercise 5:</span>**  \n",
    "\n",
    "How do the results from the Naive Bayes model and the Decision Tree model compare? How do you interpret these differences? Use the theoretical background covered in class to try and explain these differences."
   ]
  },
  {
   "cell_type": "markdown",
   "metadata": {},
   "source": [
    "**Answer:**\n",
    "\n",
    "With the number of training dataset is 3613, we can calculate the confidence interval for the true difference between 2 model at 95% confidence level: 0.03 +(-) 1.96 x 0.0110 = 0.03 +(-) 0.0216\n",
    "\n",
    "As the interval doesn't span the value zero, we can conclude that the observed difference is statistically significant at 95% confidence level.\n",
    "\n",
    "Overall, Naive Bayes (NB) model is better than Decision Tree (DT) model in this classification problem. The accuracy score and the F1 score of NB model are better than those of DT model (0.69 > 0.66). And NB model still has the overfitting problem but the gap between train accuracy score and test accuracy score is lower than that of DT model.\n",
    "- Because one of most popular issues of DT model is easily suffering from overfitting.\n",
    "- Picking which features for NB model matter is up to ourselves. Instead, DT model will pick the best features from tabular data. But in this classification problem, the list of features is the same so NB model can perform well with low amounts of data."
   ]
  },
  {
   "cell_type": "markdown",
   "metadata": {},
   "source": [
    "---\n",
    "## **<span style=\"color:red\">Exercise 6:</span>**  \n",
    "\n",
    "Plot the Training and Validation Accuracy and Loss (different plots). How to interpret the graphs you got? How are they related to the concept of overfitting/underfitting covered in class?"
   ]
  },
  {
   "cell_type": "markdown",
   "metadata": {},
   "source": [
    "### Prepare data (X, y)"
   ]
  },
  {
   "cell_type": "code",
   "execution_count": 15,
   "metadata": {},
   "outputs": [
    {
     "name": "stdout",
     "output_type": "stream",
     "text": [
      "X_train.shape:  (3613, 500)\n",
      "y_train.shape:  (3613,)\n",
      "X_test.shape:  (347, 500)\n",
      "y_test.shape:  (347,)\n"
     ]
    }
   ],
   "source": [
    "import keras\n",
    "\n",
    "# standardize name (X, y) \n",
    "X_train = BOW_500.transform(train_df['text'])\n",
    "y_train = train_df['emotion']\n",
    "\n",
    "X_test = BOW_500.transform(test_df['text'])\n",
    "y_test = test_df['emotion']\n",
    "\n",
    "## check dimension is a good habbit \n",
    "print('X_train.shape: ', X_train.shape)\n",
    "print('y_train.shape: ', y_train.shape)\n",
    "print('X_test.shape: ', X_test.shape)\n",
    "print('y_test.shape: ', y_test.shape)"
   ]
  },
  {
   "cell_type": "markdown",
   "metadata": {},
   "source": [
    "### Deal with categorical label (y)"
   ]
  },
  {
   "cell_type": "code",
   "execution_count": 16,
   "metadata": {},
   "outputs": [
    {
     "name": "stdout",
     "output_type": "stream",
     "text": [
      "check label:  ['anger' 'fear' 'joy' 'sadness']\n",
      "\n",
      "## Before convert\n",
      "y_train[0:4]:\n",
      " 0    anger\n",
      "1    anger\n",
      "2    anger\n",
      "3    anger\n",
      "Name: emotion, dtype: object\n",
      "\n",
      "y_train.shape:  (3613,)\n",
      "y_test.shape:  (347,)\n",
      "\n",
      "\n",
      "## After convert\n",
      "y_train[0:4]:\n",
      " [[1. 0. 0. 0.]\n",
      " [1. 0. 0. 0.]\n",
      " [1. 0. 0. 0.]\n",
      " [1. 0. 0. 0.]]\n",
      "\n",
      "y_train.shape:  (3613, 4)\n",
      "y_test.shape:  (347, 4)\n"
     ]
    }
   ],
   "source": [
    "## deal with label (string -> one-hot)\n",
    "\n",
    "from sklearn.preprocessing import LabelEncoder\n",
    "\n",
    "label_encoder = LabelEncoder()\n",
    "label_encoder.fit(y_train)\n",
    "print('check label: ', label_encoder.classes_)\n",
    "print('\\n## Before convert')\n",
    "print('y_train[0:4]:\\n', y_train[0:4])\n",
    "print('\\ny_train.shape: ', y_train.shape)\n",
    "print('y_test.shape: ', y_test.shape)\n",
    "\n",
    "def label_encode(le, labels):\n",
    "    enc = le.transform(labels)\n",
    "    return keras.utils.to_categorical(enc)\n",
    "\n",
    "def label_decode(le, one_hot_label):\n",
    "    dec = np.argmax(one_hot_label, axis=1)\n",
    "    return le.inverse_transform(dec)\n",
    "\n",
    "y_train = label_encode(label_encoder, y_train)\n",
    "y_test = label_encode(label_encoder, y_test)\n",
    "\n",
    "print('\\n\\n## After convert')\n",
    "print('y_train[0:4]:\\n', y_train[0:4])\n",
    "print('\\ny_train.shape: ', y_train.shape)\n",
    "print('y_test.shape: ', y_test.shape)\n"
   ]
  },
  {
   "cell_type": "markdown",
   "metadata": {},
   "source": [
    "### Build model"
   ]
  },
  {
   "cell_type": "code",
   "execution_count": 17,
   "metadata": {},
   "outputs": [
    {
     "name": "stdout",
     "output_type": "stream",
     "text": [
      "input_shape:  500\n",
      "output_shape:  4\n"
     ]
    }
   ],
   "source": [
    "# I/O check\n",
    "input_shape = X_train.shape[1]\n",
    "print('input_shape: ', input_shape)\n",
    "\n",
    "output_shape = len(label_encoder.classes_)\n",
    "print('output_shape: ', output_shape)"
   ]
  },
  {
   "cell_type": "code",
   "execution_count": 18,
   "metadata": {},
   "outputs": [
    {
     "name": "stdout",
     "output_type": "stream",
     "text": [
      "Model: \"model\"\n",
      "_________________________________________________________________\n",
      "Layer (type)                 Output Shape              Param #   \n",
      "=================================================================\n",
      "input_1 (InputLayer)         [(None, 500)]             0         \n",
      "_________________________________________________________________\n",
      "dense (Dense)                (None, 64)                32064     \n",
      "_________________________________________________________________\n",
      "re_lu (ReLU)                 (None, 64)                0         \n",
      "_________________________________________________________________\n",
      "dense_1 (Dense)              (None, 64)                4160      \n",
      "_________________________________________________________________\n",
      "re_lu_1 (ReLU)               (None, 64)                0         \n",
      "_________________________________________________________________\n",
      "dense_2 (Dense)              (None, 4)                 260       \n",
      "_________________________________________________________________\n",
      "softmax (Softmax)            (None, 4)                 0         \n",
      "=================================================================\n",
      "Total params: 36,484\n",
      "Trainable params: 36,484\n",
      "Non-trainable params: 0\n",
      "_________________________________________________________________\n"
     ]
    }
   ],
   "source": [
    "from keras.models import Model\n",
    "from keras.layers import Input, Dense\n",
    "from keras.layers import ReLU, Softmax\n",
    "\n",
    "# input layer\n",
    "model_input = Input(shape=(input_shape, ))  # 500\n",
    "X = model_input\n",
    "\n",
    "# 1st hidden layer\n",
    "X_W1 = Dense(units=64)(X)  # 64\n",
    "H1 = ReLU()(X_W1)\n",
    "\n",
    "# 2nd hidden layer\n",
    "H1_W2 = Dense(units=64)(H1)  # 64\n",
    "H2 = ReLU()(H1_W2)\n",
    "\n",
    "# output layer\n",
    "H2_W3 = Dense(units=output_shape)(H2)  # 4\n",
    "H3 = Softmax()(H2_W3)\n",
    "\n",
    "model_output = H3\n",
    "\n",
    "# create model\n",
    "model = Model(inputs=[model_input], outputs=[model_output])\n",
    "\n",
    "# loss function & optimizer\n",
    "model.compile(optimizer='adam',\n",
    "              loss='categorical_crossentropy',\n",
    "              metrics=['accuracy'])\n",
    "\n",
    "# show model construction\n",
    "model.summary()"
   ]
  },
  {
   "cell_type": "markdown",
   "metadata": {},
   "source": [
    "### Train"
   ]
  },
  {
   "cell_type": "code",
   "execution_count": 19,
   "metadata": {},
   "outputs": [
    {
     "name": "stdout",
     "output_type": "stream",
     "text": [
      "Epoch 1/20\n",
      "113/113 [==============================] - 0s 2ms/step - loss: 1.3374 - accuracy: 0.3512 - val_loss: 1.2901 - val_accuracy: 0.4640\n",
      "Epoch 2/20\n",
      "113/113 [==============================] - 0s 934us/step - loss: 0.9990 - accuracy: 0.6430 - val_loss: 0.8895 - val_accuracy: 0.6859\n",
      "Epoch 3/20\n",
      "113/113 [==============================] - 0s 933us/step - loss: 0.5796 - accuracy: 0.7908 - val_loss: 0.7613 - val_accuracy: 0.7003\n",
      "Epoch 4/20\n",
      "113/113 [==============================] - 0s 938us/step - loss: 0.4118 - accuracy: 0.8500 - val_loss: 0.7909 - val_accuracy: 0.7032\n",
      "Epoch 5/20\n",
      "113/113 [==============================] - 0s 940us/step - loss: 0.3323 - accuracy: 0.8821 - val_loss: 0.8063 - val_accuracy: 0.6945\n",
      "Epoch 6/20\n",
      "113/113 [==============================] - 0s 974us/step - loss: 0.2683 - accuracy: 0.9048 - val_loss: 0.8736 - val_accuracy: 0.7003\n",
      "Epoch 7/20\n",
      "113/113 [==============================] - 0s 956us/step - loss: 0.2237 - accuracy: 0.9258 - val_loss: 0.9325 - val_accuracy: 0.6945\n",
      "Epoch 8/20\n",
      "113/113 [==============================] - 0s 944us/step - loss: 0.1888 - accuracy: 0.9397 - val_loss: 0.9982 - val_accuracy: 0.6916\n",
      "Epoch 9/20\n",
      "113/113 [==============================] - 0s 949us/step - loss: 0.1639 - accuracy: 0.9471 - val_loss: 1.0315 - val_accuracy: 0.6945\n",
      "Epoch 10/20\n",
      "113/113 [==============================] - 0s 964us/step - loss: 0.1427 - accuracy: 0.9563 - val_loss: 1.0917 - val_accuracy: 0.7032\n",
      "Epoch 11/20\n",
      "113/113 [==============================] - 0s 960us/step - loss: 0.1244 - accuracy: 0.9607 - val_loss: 1.1600 - val_accuracy: 0.6830\n",
      "Epoch 12/20\n",
      "113/113 [==============================] - 0s 959us/step - loss: 0.1147 - accuracy: 0.9648 - val_loss: 1.1962 - val_accuracy: 0.7003\n",
      "Epoch 13/20\n",
      "113/113 [==============================] - 0s 954us/step - loss: 0.1055 - accuracy: 0.9660 - val_loss: 1.2503 - val_accuracy: 0.6974\n",
      "Epoch 14/20\n",
      "113/113 [==============================] - 0s 1ms/step - loss: 0.0989 - accuracy: 0.9682 - val_loss: 1.2592 - val_accuracy: 0.6916\n",
      "Epoch 15/20\n",
      "113/113 [==============================] - 0s 1ms/step - loss: 0.0881 - accuracy: 0.9712 - val_loss: 1.3133 - val_accuracy: 0.6916\n",
      "Epoch 16/20\n",
      "113/113 [==============================] - 0s 931us/step - loss: 0.0894 - accuracy: 0.9707 - val_loss: 1.3370 - val_accuracy: 0.6945\n",
      "Epoch 17/20\n",
      "113/113 [==============================] - 0s 977us/step - loss: 0.0831 - accuracy: 0.9732 - val_loss: 1.3815 - val_accuracy: 0.6945\n",
      "Epoch 18/20\n",
      "113/113 [==============================] - 0s 1ms/step - loss: 0.0737 - accuracy: 0.9734 - val_loss: 1.4075 - val_accuracy: 0.6945\n",
      "Epoch 19/20\n",
      "113/113 [==============================] - 0s 1ms/step - loss: 0.0765 - accuracy: 0.9748 - val_loss: 1.4422 - val_accuracy: 0.7032\n",
      "Epoch 20/20\n",
      "113/113 [==============================] - 0s 1ms/step - loss: 0.0710 - accuracy: 0.9754 - val_loss: 1.5040 - val_accuracy: 0.7032\n",
      "training finish\n"
     ]
    }
   ],
   "source": [
    "from keras.callbacks import CSVLogger\n",
    "\n",
    "csv_logger = CSVLogger('logs/training_log_ex6.csv')\n",
    "\n",
    "# training setting\n",
    "epochs = 20\n",
    "batch_size = 32\n",
    "\n",
    "# training!\n",
    "history = model.fit(X_train, y_train, \n",
    "                    epochs=epochs, \n",
    "                    batch_size=batch_size, \n",
    "                    callbacks=[csv_logger],\n",
    "                    validation_data = (X_test, y_test))\n",
    "print('training finish')"
   ]
  },
  {
   "cell_type": "markdown",
   "metadata": {},
   "source": [
    "### Predict on testing data"
   ]
  },
  {
   "cell_type": "code",
   "execution_count": 20,
   "metadata": {},
   "outputs": [
    {
     "data": {
      "text/plain": [
       "array([[4.0246520e-02, 3.3979937e-02, 7.8430670e-01, 1.4146687e-01],\n",
       "       [9.9684769e-01, 1.5080714e-03, 7.4251358e-07, 1.6434133e-03],\n",
       "       [9.3610382e-01, 6.1293025e-02, 3.2117677e-07, 2.6027693e-03],\n",
       "       [9.0238333e-01, 1.7880842e-04, 8.0885760e-02, 1.6552052e-02],\n",
       "       [2.1572784e-03, 1.1007802e-04, 2.6873402e-05, 9.9770576e-01]],\n",
       "      dtype=float32)"
      ]
     },
     "execution_count": 20,
     "metadata": {},
     "output_type": "execute_result"
    }
   ],
   "source": [
    "## predict\n",
    "pred_result = model.predict(X_test, batch_size=128)\n",
    "pred_result[:5]"
   ]
  },
  {
   "cell_type": "code",
   "execution_count": 21,
   "metadata": {},
   "outputs": [
    {
     "data": {
      "text/plain": [
       "array(['joy', 'anger', 'anger', 'anger', 'sadness'], dtype=object)"
      ]
     },
     "execution_count": 21,
     "metadata": {},
     "output_type": "execute_result"
    }
   ],
   "source": [
    "pred_result = label_decode(label_encoder, pred_result)\n",
    "pred_result[:5]"
   ]
  },
  {
   "cell_type": "code",
   "execution_count": 22,
   "metadata": {},
   "outputs": [
    {
     "name": "stdout",
     "output_type": "stream",
     "text": [
      "testing accuracy: 0.7\n"
     ]
    }
   ],
   "source": [
    "from sklearn.metrics import accuracy_score\n",
    "\n",
    "print('testing accuracy: {}'.format(round(accuracy_score(label_decode(label_encoder, y_test), pred_result), 2)))"
   ]
  },
  {
   "cell_type": "code",
   "execution_count": 23,
   "metadata": {},
   "outputs": [
    {
     "data": {
      "text/html": [
       "<div>\n",
       "<style scoped>\n",
       "    .dataframe tbody tr th:only-of-type {\n",
       "        vertical-align: middle;\n",
       "    }\n",
       "\n",
       "    .dataframe tbody tr th {\n",
       "        vertical-align: top;\n",
       "    }\n",
       "\n",
       "    .dataframe thead th {\n",
       "        text-align: right;\n",
       "    }\n",
       "</style>\n",
       "<table border=\"1\" class=\"dataframe\">\n",
       "  <thead>\n",
       "    <tr style=\"text-align: right;\">\n",
       "      <th></th>\n",
       "      <th>epoch</th>\n",
       "      <th>accuracy</th>\n",
       "      <th>loss</th>\n",
       "      <th>val_accuracy</th>\n",
       "      <th>val_loss</th>\n",
       "    </tr>\n",
       "  </thead>\n",
       "  <tbody>\n",
       "    <tr>\n",
       "      <th>0</th>\n",
       "      <td>0</td>\n",
       "      <td>0.351232</td>\n",
       "      <td>1.337449</td>\n",
       "      <td>0.463977</td>\n",
       "      <td>1.290056</td>\n",
       "    </tr>\n",
       "    <tr>\n",
       "      <th>1</th>\n",
       "      <td>1</td>\n",
       "      <td>0.642956</td>\n",
       "      <td>0.998982</td>\n",
       "      <td>0.685879</td>\n",
       "      <td>0.889508</td>\n",
       "    </tr>\n",
       "    <tr>\n",
       "      <th>2</th>\n",
       "      <td>2</td>\n",
       "      <td>0.790756</td>\n",
       "      <td>0.579648</td>\n",
       "      <td>0.700288</td>\n",
       "      <td>0.761316</td>\n",
       "    </tr>\n",
       "    <tr>\n",
       "      <th>3</th>\n",
       "      <td>3</td>\n",
       "      <td>0.849986</td>\n",
       "      <td>0.411826</td>\n",
       "      <td>0.703170</td>\n",
       "      <td>0.790938</td>\n",
       "    </tr>\n",
       "    <tr>\n",
       "      <th>4</th>\n",
       "      <td>4</td>\n",
       "      <td>0.882092</td>\n",
       "      <td>0.332338</td>\n",
       "      <td>0.694524</td>\n",
       "      <td>0.806258</td>\n",
       "    </tr>\n",
       "    <tr>\n",
       "      <th>5</th>\n",
       "      <td>5</td>\n",
       "      <td>0.904788</td>\n",
       "      <td>0.268316</td>\n",
       "      <td>0.700288</td>\n",
       "      <td>0.873596</td>\n",
       "    </tr>\n",
       "    <tr>\n",
       "      <th>6</th>\n",
       "      <td>6</td>\n",
       "      <td>0.925823</td>\n",
       "      <td>0.223726</td>\n",
       "      <td>0.694524</td>\n",
       "      <td>0.932464</td>\n",
       "    </tr>\n",
       "    <tr>\n",
       "      <th>7</th>\n",
       "      <td>7</td>\n",
       "      <td>0.939662</td>\n",
       "      <td>0.188779</td>\n",
       "      <td>0.691643</td>\n",
       "      <td>0.998236</td>\n",
       "    </tr>\n",
       "    <tr>\n",
       "      <th>8</th>\n",
       "      <td>8</td>\n",
       "      <td>0.947135</td>\n",
       "      <td>0.163865</td>\n",
       "      <td>0.694524</td>\n",
       "      <td>1.031525</td>\n",
       "    </tr>\n",
       "    <tr>\n",
       "      <th>9</th>\n",
       "      <td>9</td>\n",
       "      <td>0.956269</td>\n",
       "      <td>0.142655</td>\n",
       "      <td>0.703170</td>\n",
       "      <td>1.091674</td>\n",
       "    </tr>\n",
       "    <tr>\n",
       "      <th>10</th>\n",
       "      <td>10</td>\n",
       "      <td>0.960697</td>\n",
       "      <td>0.124354</td>\n",
       "      <td>0.682997</td>\n",
       "      <td>1.159951</td>\n",
       "    </tr>\n",
       "    <tr>\n",
       "      <th>11</th>\n",
       "      <td>11</td>\n",
       "      <td>0.964849</td>\n",
       "      <td>0.114687</td>\n",
       "      <td>0.700288</td>\n",
       "      <td>1.196216</td>\n",
       "    </tr>\n",
       "    <tr>\n",
       "      <th>12</th>\n",
       "      <td>12</td>\n",
       "      <td>0.965956</td>\n",
       "      <td>0.105506</td>\n",
       "      <td>0.697406</td>\n",
       "      <td>1.250263</td>\n",
       "    </tr>\n",
       "    <tr>\n",
       "      <th>13</th>\n",
       "      <td>13</td>\n",
       "      <td>0.968171</td>\n",
       "      <td>0.098902</td>\n",
       "      <td>0.691643</td>\n",
       "      <td>1.259174</td>\n",
       "    </tr>\n",
       "    <tr>\n",
       "      <th>14</th>\n",
       "      <td>14</td>\n",
       "      <td>0.971215</td>\n",
       "      <td>0.088060</td>\n",
       "      <td>0.691643</td>\n",
       "      <td>1.313267</td>\n",
       "    </tr>\n",
       "    <tr>\n",
       "      <th>15</th>\n",
       "      <td>15</td>\n",
       "      <td>0.970662</td>\n",
       "      <td>0.089419</td>\n",
       "      <td>0.694524</td>\n",
       "      <td>1.337019</td>\n",
       "    </tr>\n",
       "    <tr>\n",
       "      <th>16</th>\n",
       "      <td>16</td>\n",
       "      <td>0.973153</td>\n",
       "      <td>0.083096</td>\n",
       "      <td>0.694524</td>\n",
       "      <td>1.381469</td>\n",
       "    </tr>\n",
       "    <tr>\n",
       "      <th>17</th>\n",
       "      <td>17</td>\n",
       "      <td>0.973429</td>\n",
       "      <td>0.073709</td>\n",
       "      <td>0.694524</td>\n",
       "      <td>1.407543</td>\n",
       "    </tr>\n",
       "    <tr>\n",
       "      <th>18</th>\n",
       "      <td>18</td>\n",
       "      <td>0.974813</td>\n",
       "      <td>0.076515</td>\n",
       "      <td>0.703170</td>\n",
       "      <td>1.442182</td>\n",
       "    </tr>\n",
       "    <tr>\n",
       "      <th>19</th>\n",
       "      <td>19</td>\n",
       "      <td>0.975367</td>\n",
       "      <td>0.071026</td>\n",
       "      <td>0.703170</td>\n",
       "      <td>1.503973</td>\n",
       "    </tr>\n",
       "  </tbody>\n",
       "</table>\n",
       "</div>"
      ],
      "text/plain": [
       "    epoch  accuracy      loss  val_accuracy  val_loss\n",
       "0       0  0.351232  1.337449      0.463977  1.290056\n",
       "1       1  0.642956  0.998982      0.685879  0.889508\n",
       "2       2  0.790756  0.579648      0.700288  0.761316\n",
       "3       3  0.849986  0.411826      0.703170  0.790938\n",
       "4       4  0.882092  0.332338      0.694524  0.806258\n",
       "5       5  0.904788  0.268316      0.700288  0.873596\n",
       "6       6  0.925823  0.223726      0.694524  0.932464\n",
       "7       7  0.939662  0.188779      0.691643  0.998236\n",
       "8       8  0.947135  0.163865      0.694524  1.031525\n",
       "9       9  0.956269  0.142655      0.703170  1.091674\n",
       "10     10  0.960697  0.124354      0.682997  1.159951\n",
       "11     11  0.964849  0.114687      0.700288  1.196216\n",
       "12     12  0.965956  0.105506      0.697406  1.250263\n",
       "13     13  0.968171  0.098902      0.691643  1.259174\n",
       "14     14  0.971215  0.088060      0.691643  1.313267\n",
       "15     15  0.970662  0.089419      0.694524  1.337019\n",
       "16     16  0.973153  0.083096      0.694524  1.381469\n",
       "17     17  0.973429  0.073709      0.694524  1.407543\n",
       "18     18  0.974813  0.076515      0.703170  1.442182\n",
       "19     19  0.975367  0.071026      0.703170  1.503973"
      ]
     },
     "execution_count": 23,
     "metadata": {},
     "output_type": "execute_result"
    }
   ],
   "source": [
    "#Let's take a look at the training log\n",
    "training_log = pd.DataFrame()\n",
    "training_log = pd.read_csv(\"logs/training_log_ex6.csv\")\n",
    "training_log"
   ]
  },
  {
   "cell_type": "code",
   "execution_count": 24,
   "metadata": {
    "scrolled": true
   },
   "outputs": [
    {
     "data": {
      "image/png": "[encoded data removed]",
      "text/plain": [
       "<Figure size 1080x360 with 2 Axes>"
      ]
     },
     "metadata": {
      "needs_background": "light"
     },
     "output_type": "display_data"
    }
   ],
   "source": [
    "from matplotlib.pylab import plt\n",
    "\n",
    "cols_1 = ['accuracy','loss']\n",
    "cols_2 = ['val_accuracy','val_loss']\n",
    "labs_1 = ['Train accuracy','Train loss']\n",
    "labs_2 = ['Val accuracy','Val loss']\n",
    "tits = ['Training Accuracy per epoch','Training Loss per epoch']\n",
    "\n",
    "fig, axes = plt.subplots(nrows=1, ncols=2, figsize=(15, 5))\n",
    "for ax, c1, c2, l1, l2, t in zip(axes, cols_1, cols_2, labs_1, labs_2, tits):\n",
    "    ax.plot(training_log.epoch, training_log[c1])\n",
    "    ax.plot(training_log.epoch, training_log[c2], color='red')\n",
    "    ax.set_xlim(0,10)\n",
    "    ax.legend([l1,l2])\n",
    "    ax.set_xlabel('epochs')\n",
    "    ax.set_ylabel(c1)\n",
    "    ax.set_title(t)\n",
    "plt.show()"
   ]
  },
  {
   "cell_type": "markdown",
   "metadata": {},
   "source": [
    "From the 1st charts, we can see that the model has a strong overfitting problem. The gap between training and validation accuracy in this chart is a clear indication of overfitting because it widens over the training process while the training accuracy is too high but the model doesn't fit the validation dataset. Also, the lower the loss, the better a model."
   ]
  },
  {
   "cell_type": "markdown",
   "metadata": {},
   "source": [
    "---\n",
    "## **<span style=\"color:red\">Exercise 7:</span>**  \n",
    "\n",
    "Now, we have the word vectors, but our input data is a sequence of words (or say sentence). \n",
    "How can we utilize these \"word\" vectors to represent the sentence data and train our model?\n"
   ]
  },
  {
   "cell_type": "markdown",
   "metadata": {},
   "source": [
    "### Prepare training corpus"
   ]
  },
  {
   "cell_type": "code",
   "execution_count": 25,
   "metadata": {
    "scrolled": true
   },
   "outputs": [],
   "source": [
    "import gensim\n",
    "import warnings\n",
    "warnings.filterwarnings('ignore')\n",
    "train_df['text_tokenized'] = train_df['text'].apply(lambda x: nltk.word_tokenize(x))"
   ]
  },
  {
   "cell_type": "code",
   "execution_count": 26,
   "metadata": {},
   "outputs": [
    {
     "data": {
      "text/plain": [
       "(3613, 5)"
      ]
     },
     "execution_count": 26,
     "metadata": {},
     "output_type": "execute_result"
    }
   ],
   "source": [
    "train_df.shape"
   ]
  },
  {
   "cell_type": "markdown",
   "metadata": {},
   "source": [
    "### Fitting Word2Vec"
   ]
  },
  {
   "cell_type": "code",
   "execution_count": 27,
   "metadata": {
    "scrolled": true
   },
   "outputs": [],
   "source": [
    "from gensim.models import Word2Vec\n",
    "vector_dim = 100\n",
    "window_size = 5\n",
    "min_count = 1\n",
    "training_iter = 20\n",
    "\n",
    "word2vec_model = Word2Vec(sentences=train_df['text_tokenized'].values, size=vector_dim, window=window_size, \n",
    "                          min_count=min_count, iter=training_iter)"
   ]
  },
  {
   "cell_type": "markdown",
   "metadata": {},
   "source": [
    "## Represent The \"Sentence\" Vectors"
   ]
  },
  {
   "cell_type": "code",
   "execution_count": 28,
   "metadata": {},
   "outputs": [],
   "source": [
    "def make_feature_vec(words, model, vector_dim):\n",
    "    \"\"\"\n",
    "    Average the word vectors for a set of words\n",
    "    \"\"\"\n",
    "    feature_vec = np.zeros((vector_dim,),dtype=\"float32\")  # pre-initialize (for speed)\n",
    "    nwords = 0.\n",
    "    index2word_set = set(model.wv.index2word)  # words known to the model\n",
    "\n",
    "    for word in words:\n",
    "        if word in index2word_set: \n",
    "            nwords = nwords + 1.\n",
    "            feature_vec = np.add(feature_vec,model[word])\n",
    "    \n",
    "    feature_vec = np.divide(feature_vec, nwords)\n",
    "    return feature_vec\n",
    "\n",
    "\n",
    "def get_avg_feature_vecs(comments, model, vector_dim):\n",
    "    \"\"\"\n",
    "    Calculate average feature vectors for all reviews\n",
    "    \"\"\"\n",
    "    counter = 0\n",
    "    review_feature_vecs = np.zeros((len(comments),vector_dim), dtype='float32')  # pre-initialize (for speed)\n",
    "    \n",
    "    for comment in comments:\n",
    "        review_feature_vecs[counter] = make_feature_vec(comment, model, vector_dim)\n",
    "        counter = counter + 1\n",
    "    return review_feature_vecs"
   ]
  },
  {
   "cell_type": "code",
   "execution_count": 29,
   "metadata": {
    "scrolled": false
   },
   "outputs": [
    {
     "data": {
      "text/plain": [
       "array([[ 0.39014298,  0.271441  ,  0.54554313,  0.20179906, -0.45709214,\n",
       "         0.28908548,  0.32159215, -0.48210317, -0.12618484,  0.16009304,\n",
       "         0.23540507, -0.06626158, -0.03100093,  0.77610874, -0.21812439,\n",
       "         0.21417084,  0.12690195,  0.02463129, -0.13074727, -0.5759411 ,\n",
       "         0.00792513,  0.25723997,  0.50215214, -0.1451099 ,  0.66440374,\n",
       "        -0.28038543,  0.4242968 , -0.09589219, -0.16465132,  0.66371596,\n",
       "        -0.1804714 ,  0.04291144,  0.11698455, -0.01808531, -0.9058973 ,\n",
       "        -0.41863775,  0.17286256, -0.5908683 , -0.44536802, -1.5310467 ,\n",
       "         0.43222192,  0.36483386, -0.04090892, -0.39778295,  0.09669172,\n",
       "        -0.15768167, -0.5464687 ,  0.09588604,  0.2157615 ,  0.26121444,\n",
       "        -0.53277653, -0.25131822,  0.22266991, -0.2914717 ,  0.3368158 ,\n",
       "         0.02824654, -0.08400426, -0.11294333,  0.88629407,  0.05509847,\n",
       "        -0.5596865 , -0.35150895, -0.70995724, -0.3051877 ,  0.30786753,\n",
       "         0.10821012,  0.15185753, -0.2760172 , -1.0445114 , -0.33324224,\n",
       "         0.14659798, -0.47207278,  0.9927121 ,  0.02804284,  0.32410496,\n",
       "         0.29759327,  0.1531005 , -0.03779482, -0.7278978 , -0.1515161 ,\n",
       "        -0.23536706, -0.01077581, -0.12099557, -0.45672658, -0.45794535,\n",
       "        -0.18492447,  0.1406338 ,  0.40940696, -0.3385128 ,  0.33495933,\n",
       "         0.23689291,  0.6167645 ,  0.37056065,  0.3037669 ,  0.13329841,\n",
       "        -0.8137043 , -0.5175458 , -0.11111055, -0.8362821 ,  0.46635556],\n",
       "       [-0.09301552,  0.07271364,  0.29444277,  0.00599385, -0.2150571 ,\n",
       "         0.33838642,  0.754752  , -0.25154567, -0.01299125,  0.25980192,\n",
       "        -0.14523886, -0.48784575, -0.07087015,  0.75958836, -0.23591784,\n",
       "        -0.35779163,  0.09124175,  0.08949734, -0.04946998, -0.24141514,\n",
       "        -0.32604516,  0.02779561,  0.6387288 ,  0.0281365 ,  0.22380112,\n",
       "         0.21572699,  0.2212897 , -0.130303  ,  0.10829838,  0.1522744 ,\n",
       "        -0.09906749, -0.02917235, -0.04997737,  0.18915321, -0.80401427,\n",
       "        -0.2911608 ,  0.68502045, -0.83487064, -0.571493  , -1.4665334 ,\n",
       "         0.20244215,  0.2503218 , -0.10893533, -0.35088953, -0.31428134,\n",
       "        -0.20610583, -0.58387905,  0.3888031 , -0.107387  ,  0.4240795 ,\n",
       "        -0.888702  , -0.5233181 ,  0.25503132,  0.04595565,  0.5903811 ,\n",
       "        -0.07476586,  0.43544394,  0.07447487,  1.0802714 ,  0.14360242,\n",
       "        -0.8972768 , -0.36706847, -0.49882856,  0.02111618, -0.56393266,\n",
       "         0.28245923,  0.05976083,  0.16246612, -0.49368367, -0.52296513,\n",
       "         0.16758443, -0.578411  ,  0.6052002 , -0.25411552,  0.1855711 ,\n",
       "         0.2802303 , -0.16717495,  0.33326727, -0.6593219 , -0.15555595,\n",
       "        -0.2588022 ,  0.10923926,  0.34551182, -0.89794844, -0.22016443,\n",
       "         0.2773336 ,  0.63249743,  0.10419478, -0.24483539, -0.11938799,\n",
       "         0.28470093,  0.7793427 ,  0.29097632,  0.27242956,  0.23988259,\n",
       "        -0.59704816, -0.2529256 ,  0.01231761, -0.42041895,  0.293623  ]],\n",
       "      dtype=float32)"
      ]
     },
     "execution_count": 29,
     "metadata": {},
     "output_type": "execute_result"
    }
   ],
   "source": [
    "# calculate average feature vectors for training and test sets\n",
    "trainDataVecs = get_avg_feature_vecs(train_df.text_tokenized.to_list(), word2vec_model, vector_dim)\n",
    "trainDataVecs[0:2]"
   ]
  },
  {
   "cell_type": "markdown",
   "metadata": {},
   "source": [
    "## Train ANN Model\n",
    "### Prepare data (X, y)"
   ]
  },
  {
   "cell_type": "code",
   "execution_count": 30,
   "metadata": {
    "scrolled": true
   },
   "outputs": [
    {
     "name": "stdout",
     "output_type": "stream",
     "text": [
      "X_train.shape:  (3613, 100)\n",
      "y_train.shape:  (3613, 4)\n",
      "X_test.shape:  (347, 100)\n",
      "y_test.shape:  (347, 4)\n"
     ]
    }
   ],
   "source": [
    "test_df['text_tokenized'] = test_df['text'].apply(lambda x: nltk.word_tokenize(x))\n",
    "testDataVecs = get_avg_feature_vecs(test_df.text_tokenized.to_list(), word2vec_model, vector_dim)\n",
    "\n",
    "X_train = trainDataVecs\n",
    "X_test = testDataVecs\n",
    "print('X_train.shape: ', X_train.shape)\n",
    "print('y_train.shape: ', y_train.shape)\n",
    "print('X_test.shape: ', X_test.shape)\n",
    "print('y_test.shape: ', y_test.shape)"
   ]
  },
  {
   "cell_type": "markdown",
   "metadata": {},
   "source": [
    "### Build model"
   ]
  },
  {
   "cell_type": "code",
   "execution_count": 31,
   "metadata": {},
   "outputs": [
    {
     "name": "stdout",
     "output_type": "stream",
     "text": [
      "input_shape:  100\n",
      "output_shape:  4\n"
     ]
    }
   ],
   "source": [
    "# I/O check\n",
    "input_shape = X_train.shape[1]\n",
    "print('input_shape: ', input_shape)\n",
    "\n",
    "output_shape = len(label_encoder.classes_)\n",
    "print('output_shape: ', output_shape)"
   ]
  },
  {
   "cell_type": "code",
   "execution_count": 32,
   "metadata": {},
   "outputs": [
    {
     "name": "stdout",
     "output_type": "stream",
     "text": [
      "Model: \"model_1\"\n",
      "_________________________________________________________________\n",
      "Layer (type)                 Output Shape              Param #   \n",
      "=================================================================\n",
      "input_2 (InputLayer)         [(None, 100)]             0         \n",
      "_________________________________________________________________\n",
      "dense_3 (Dense)              (None, 64)                6464      \n",
      "_________________________________________________________________\n",
      "re_lu_2 (ReLU)               (None, 64)                0         \n",
      "_________________________________________________________________\n",
      "dense_4 (Dense)              (None, 64)                4160      \n",
      "_________________________________________________________________\n",
      "re_lu_3 (ReLU)               (None, 64)                0         \n",
      "_________________________________________________________________\n",
      "dense_5 (Dense)              (None, 4)                 260       \n",
      "_________________________________________________________________\n",
      "softmax_1 (Softmax)          (None, 4)                 0         \n",
      "=================================================================\n",
      "Total params: 10,884\n",
      "Trainable params: 10,884\n",
      "Non-trainable params: 0\n",
      "_________________________________________________________________\n"
     ]
    }
   ],
   "source": [
    "from keras.models import Model\n",
    "from keras.layers import Input, Dense\n",
    "from keras.layers import ReLU, Softmax\n",
    "\n",
    "# input layer\n",
    "model_input = Input(shape=(input_shape, ))  # 500\n",
    "X = model_input\n",
    "\n",
    "# 1st hidden layer\n",
    "X_W1 = Dense(units=64)(X)  # 64\n",
    "H1 = ReLU()(X_W1)\n",
    "\n",
    "# 2nd hidden layer\n",
    "H1_W2 = Dense(units=64)(H1)  # 64\n",
    "H2 = ReLU()(H1_W2)\n",
    "\n",
    "# output layer\n",
    "H2_W3 = Dense(units=output_shape)(H2)  # 4\n",
    "H3 = Softmax()(H2_W3)\n",
    "\n",
    "model_output = H3\n",
    "\n",
    "# create model\n",
    "model = Model(inputs=[model_input], outputs=[model_output])\n",
    "\n",
    "# loss function & optimizer\n",
    "model.compile(optimizer='adam',\n",
    "              loss='categorical_crossentropy',\n",
    "              metrics=['accuracy'])\n",
    "\n",
    "# show model construction\n",
    "model.summary()"
   ]
  },
  {
   "cell_type": "markdown",
   "metadata": {},
   "source": [
    "### Train"
   ]
  },
  {
   "cell_type": "code",
   "execution_count": 33,
   "metadata": {},
   "outputs": [
    {
     "name": "stdout",
     "output_type": "stream",
     "text": [
      "Epoch 1/20\n",
      "113/113 [==============================] - 0s 2ms/step - loss: 1.3598 - accuracy: 0.3175 - val_loss: 1.3754 - val_accuracy: 0.3285\n",
      "Epoch 2/20\n",
      "113/113 [==============================] - 0s 992us/step - loss: 1.3458 - accuracy: 0.3288 - val_loss: 1.3690 - val_accuracy: 0.3314\n",
      "Epoch 3/20\n",
      "113/113 [==============================] - 0s 972us/step - loss: 1.3403 - accuracy: 0.3415 - val_loss: 1.3760 - val_accuracy: 0.3285\n",
      "Epoch 4/20\n",
      "113/113 [==============================] - 0s 1000us/step - loss: 1.3392 - accuracy: 0.3429 - val_loss: 1.3749 - val_accuracy: 0.3343\n",
      "Epoch 5/20\n",
      "113/113 [==============================] - 0s 1ms/step - loss: 1.3356 - accuracy: 0.3449 - val_loss: 1.3762 - val_accuracy: 0.3228\n",
      "Epoch 6/20\n",
      "113/113 [==============================] - 0s 1ms/step - loss: 1.3339 - accuracy: 0.3435 - val_loss: 1.3760 - val_accuracy: 0.3228\n",
      "Epoch 7/20\n",
      "113/113 [==============================] - 0s 1ms/step - loss: 1.3313 - accuracy: 0.3352 - val_loss: 1.3849 - val_accuracy: 0.3256\n",
      "Epoch 8/20\n",
      "113/113 [==============================] - 0s 1ms/step - loss: 1.3311 - accuracy: 0.3446 - val_loss: 1.3791 - val_accuracy: 0.3314\n",
      "Epoch 9/20\n",
      "113/113 [==============================] - 0s 2ms/step - loss: 1.3291 - accuracy: 0.3490 - val_loss: 1.3781 - val_accuracy: 0.3199\n",
      "Epoch 10/20\n",
      "113/113 [==============================] - 0s 2ms/step - loss: 1.3281 - accuracy: 0.3479 - val_loss: 1.3800 - val_accuracy: 0.3285\n",
      "Epoch 11/20\n",
      "113/113 [==============================] - 0s 3ms/step - loss: 1.3258 - accuracy: 0.3526 - val_loss: 1.3813 - val_accuracy: 0.3228\n",
      "Epoch 12/20\n",
      "113/113 [==============================] - 0s 2ms/step - loss: 1.3253 - accuracy: 0.3468 - val_loss: 1.3833 - val_accuracy: 0.3372\n",
      "Epoch 13/20\n",
      "113/113 [==============================] - 0s 1ms/step - loss: 1.3235 - accuracy: 0.3570 - val_loss: 1.3848 - val_accuracy: 0.3401\n",
      "Epoch 14/20\n",
      "113/113 [==============================] - 0s 2ms/step - loss: 1.3231 - accuracy: 0.3490 - val_loss: 1.3863 - val_accuracy: 0.3429\n",
      "Epoch 15/20\n",
      "113/113 [==============================] - 0s 2ms/step - loss: 1.3192 - accuracy: 0.3609 - val_loss: 1.3844 - val_accuracy: 0.3429\n",
      "Epoch 16/20\n",
      "113/113 [==============================] - 0s 2ms/step - loss: 1.3201 - accuracy: 0.3568 - val_loss: 1.3837 - val_accuracy: 0.3256\n",
      "Epoch 17/20\n",
      "113/113 [==============================] - 0s 2ms/step - loss: 1.3185 - accuracy: 0.3609 - val_loss: 1.3865 - val_accuracy: 0.3285\n",
      "Epoch 18/20\n",
      "113/113 [==============================] - 0s 1ms/step - loss: 1.3195 - accuracy: 0.3568 - val_loss: 1.3809 - val_accuracy: 0.3458\n",
      "Epoch 19/20\n",
      "113/113 [==============================] - 0s 2ms/step - loss: 1.3153 - accuracy: 0.3565 - val_loss: 1.3778 - val_accuracy: 0.3285\n",
      "Epoch 20/20\n",
      "113/113 [==============================] - 0s 2ms/step - loss: 1.3119 - accuracy: 0.3653 - val_loss: 1.3801 - val_accuracy: 0.3285\n",
      "training finish\n"
     ]
    }
   ],
   "source": [
    "from keras.callbacks import CSVLogger\n",
    "\n",
    "csv_logger = CSVLogger('logs/training_log_ex7.csv')\n",
    "\n",
    "# training setting\n",
    "epochs = 20\n",
    "batch_size = 32\n",
    "\n",
    "# training!\n",
    "history = model.fit(X_train, y_train, \n",
    "                    epochs=epochs, \n",
    "                    batch_size=batch_size, \n",
    "                    callbacks=[csv_logger],\n",
    "                    validation_data = (X_test, y_test))\n",
    "print('training finish')"
   ]
  },
  {
   "cell_type": "markdown",
   "metadata": {},
   "source": [
    "### Predict on testing data"
   ]
  },
  {
   "cell_type": "code",
   "execution_count": 34,
   "metadata": {},
   "outputs": [
    {
     "data": {
      "text/plain": [
       "array([[0.29503572, 0.3039242 , 0.22998035, 0.17105967],\n",
       "       [0.27526364, 0.40744016, 0.14562188, 0.17167419],\n",
       "       [0.19596507, 0.27944657, 0.24508119, 0.27950707],\n",
       "       [0.22262107, 0.37955913, 0.17870453, 0.21911524],\n",
       "       [0.21508452, 0.37434053, 0.18202302, 0.2285519 ]], dtype=float32)"
      ]
     },
     "execution_count": 34,
     "metadata": {},
     "output_type": "execute_result"
    }
   ],
   "source": [
    "## predict\n",
    "pred_result = model.predict(X_test, batch_size=128)\n",
    "pred_result[:5]"
   ]
  },
  {
   "cell_type": "code",
   "execution_count": 35,
   "metadata": {},
   "outputs": [
    {
     "data": {
      "text/plain": [
       "array(['fear', 'fear', 'sadness', 'fear', 'fear'], dtype=object)"
      ]
     },
     "execution_count": 35,
     "metadata": {},
     "output_type": "execute_result"
    }
   ],
   "source": [
    "pred_result = label_decode(label_encoder, pred_result)\n",
    "pred_result[:5]"
   ]
  },
  {
   "cell_type": "code",
   "execution_count": 36,
   "metadata": {},
   "outputs": [
    {
     "name": "stdout",
     "output_type": "stream",
     "text": [
      "testing accuracy: 0.33\n"
     ]
    }
   ],
   "source": [
    "from sklearn.metrics import accuracy_score\n",
    "\n",
    "print('testing accuracy: {}'.format(round(accuracy_score(label_decode(label_encoder, y_test), pred_result), 2)))"
   ]
  },
  {
   "cell_type": "markdown",
   "metadata": {},
   "source": [
    "---\n",
    "## **<span style=\"color:red\">Exercise 8:</span>**  \n",
    "\n",
    "Generate a t-SNE visualization to show the 15 words most related to the words \"angry\", \"happy\", \"sad\", \"fear\" (60 words total)."
   ]
  },
  {
   "cell_type": "markdown",
   "metadata": {},
   "source": [
    "### Using a pre-trained w2v model"
   ]
  },
  {
   "cell_type": "code",
   "execution_count": 37,
   "metadata": {
    "scrolled": true
   },
   "outputs": [
    {
     "name": "stdout",
     "output_type": "stream",
     "text": [
      "load ok\n"
     ]
    },
    {
     "data": {
      "text/plain": [
       "[('glad', 0.7408890128135681),\n",
       " ('pleased', 0.6632171273231506),\n",
       " ('ecstatic', 0.6626912355422974),\n",
       " ('overjoyed', 0.6599286794662476),\n",
       " ('thrilled', 0.6514049768447876),\n",
       " ('satisfied', 0.6437950134277344),\n",
       " ('proud', 0.636042058467865),\n",
       " ('delighted', 0.627237856388092),\n",
       " ('disappointed', 0.6269949674606323),\n",
       " ('excited', 0.6247666478157043)]"
      ]
     },
     "execution_count": 37,
     "metadata": {},
     "output_type": "execute_result"
    }
   ],
   "source": [
    "from gensim.models import KeyedVectors\n",
    "\n",
    "## Note: this model is very huge, this will take some time ...\n",
    "model_path = \"/Users/locnguyen/github/dm2020_lab2_homework/GoogleNews-vectors-negative300.bin.gz\"\n",
    "w2v_google_model = KeyedVectors.load_word2vec_format(model_path, binary=True)\n",
    "print('load ok')\n",
    "\n",
    "w2v_google_model.most_similar('happy', topn=10)"
   ]
  },
  {
   "cell_type": "code",
   "execution_count": 38,
   "metadata": {},
   "outputs": [
    {
     "data": {
      "text/plain": [
       "(300,)"
      ]
     },
     "execution_count": 38,
     "metadata": {},
     "output_type": "execute_result"
    }
   ],
   "source": [
    "# get the corresponding vector of a word\n",
    "word_vec = w2v_google_model.wv['happy']\n",
    "word_vec.shape"
   ]
  },
  {
   "cell_type": "markdown",
   "metadata": {},
   "source": [
    "### Prepare visualizing target"
   ]
  },
  {
   "cell_type": "code",
   "execution_count": 39,
   "metadata": {
    "scrolled": false
   },
   "outputs": [
    {
     "name": "stdout",
     "output_type": "stream",
     "text": [
      "happy_words:  ['happy', 'glad', 'pleased', 'ecstatic', 'overjoyed', 'thrilled', 'satisfied', 'proud', 'delighted', 'disappointed', 'excited', 'happier', 'Said_Hirschbeck', 'elated', 'thankful', 'unhappy']\n",
      "angry_words:  ['angry', 'irate', 'enraged', 'indignant', 'incensed', 'annoyed', 'agitated', 'frustrated', 'furious', 'unhappy', 'outraged', 'livid', 'irritated', 'exasperated', 'angrier', 'Angry']\n",
      "sad_words:  ['sad', 'saddening', 'Sad', 'saddened', 'heartbreaking', 'disheartening', 'Meny_Friedman', 'parishioner_Pat_Patello', 'saddens_me', 'distressing', 'reminders_bobbing', 'Turkoman_Shiites', 'saddest', 'unfortunate', 'sorry', 'bittersweet']\n",
      "fear_words:  ['fear', 'fearful', 'fears', 'Fear', 'fearing', 'worry', 'dread', 'feared', 'anxiety', 'apprehension', 'afraid', 'worries', 'concern', 'distrust', 'worried', 'Fearful']\n",
      "\n",
      "target words: \n",
      "['happy', 'glad', 'pleased', 'ecstatic', 'overjoyed', 'thrilled', 'satisfied', 'proud', 'delighted', 'disappointed', 'excited', 'happier', 'Said_Hirschbeck', 'elated', 'thankful', 'unhappy', 'angry', 'irate', 'enraged', 'indignant', 'incensed', 'annoyed', 'agitated', 'frustrated', 'furious', 'unhappy', 'outraged', 'livid', 'irritated', 'exasperated', 'angrier', 'Angry', 'sad', 'saddening', 'Sad', 'saddened', 'heartbreaking', 'disheartening', 'Meny_Friedman', 'parishioner_Pat_Patello', 'saddens_me', 'distressing', 'reminders_bobbing', 'Turkoman_Shiites', 'saddest', 'unfortunate', 'sorry', 'bittersweet', 'fear', 'fearful', 'fears', 'Fear', 'fearing', 'worry', 'dread', 'feared', 'anxiety', 'apprehension', 'afraid', 'worries', 'concern', 'distrust', 'worried', 'Fearful']\n",
      "\n",
      "color list:\n",
      "['b', 'b', 'b', 'b', 'b', 'b', 'b', 'b', 'b', 'b', 'b', 'b', 'b', 'b', 'b', 'b', 'g', 'g', 'g', 'g', 'g', 'g', 'g', 'g', 'g', 'g', 'g', 'g', 'g', 'g', 'g', 'g', 'r', 'r', 'r', 'r', 'r', 'r', 'r', 'r', 'r', 'r', 'r', 'r', 'r', 'r', 'r', 'r', 'y', 'y', 'y', 'y', 'y', 'y', 'y', 'y', 'y', 'y', 'y', 'y', 'y', 'y', 'y', 'y']\n"
     ]
    }
   ],
   "source": [
    "topn = 15\n",
    "happy_words = ['happy'] + [word_ for word_, sim_ in w2v_google_model.most_similar('happy', topn=topn)]\n",
    "angry_words = ['angry'] + [word_ for word_, sim_ in w2v_google_model.most_similar('angry', topn=topn)]        \n",
    "data_words = ['sad'] + [word_ for word_, sim_ in w2v_google_model.most_similar('sad', topn=topn)]        \n",
    "mining_words = ['fear'] + [word_ for word_, sim_ in w2v_google_model.most_similar('fear', topn=topn)]        \n",
    "\n",
    "print('happy_words: ', happy_words)\n",
    "print('angry_words: ', angry_words)\n",
    "print('sad_words: ', data_words)\n",
    "print('fear_words: ', mining_words)\n",
    "\n",
    "target_words = happy_words + angry_words + data_words + mining_words\n",
    "print('\\ntarget words: ')\n",
    "print(target_words)\n",
    "\n",
    "print('\\ncolor list:')\n",
    "cn = topn + 1\n",
    "color = ['b'] * cn + ['g'] * cn + ['r'] * cn + ['y'] * cn\n",
    "print(color)"
   ]
  },
  {
   "cell_type": "markdown",
   "metadata": {},
   "source": [
    "### Plot using t-SNE (2-dimension)"
   ]
  },
  {
   "cell_type": "code",
   "execution_count": 40,
   "metadata": {},
   "outputs": [
    {
     "data": {
      "image/png": "[encoded data removed]",
      "text/plain": [
       "<Figure size 862.5x862.5 with 1 Axes>"
      ]
     },
     "metadata": {
      "needs_background": "light"
     },
     "output_type": "display_data"
    }
   ],
   "source": [
    "%matplotlib inline\n",
    "from sklearn.manifold import TSNE\n",
    "\n",
    "## w2v model\n",
    "model = w2v_google_model\n",
    "\n",
    "## prepare training word vectors\n",
    "size = 200\n",
    "target_size = len(target_words)\n",
    "all_word = list(model.vocab.keys())\n",
    "word_train = target_words + all_word[:size]\n",
    "X_train = model[word_train]\n",
    "\n",
    "## t-SNE model\n",
    "tsne = TSNE(n_components=2, metric='cosine', random_state=28)\n",
    "\n",
    "## training\n",
    "X_tsne = tsne.fit_transform(X_train)\n",
    "\n",
    "## plot the result\n",
    "plt.figure(figsize=(7.5, 7.5), dpi=115)\n",
    "plt.scatter(X_tsne[:target_size, 0], X_tsne[:target_size, 1], c=color)\n",
    "for label, x, y in zip(target_words, X_tsne[:target_size, 0], X_tsne[:target_size, 1]):\n",
    "    plt.annotate(label, xy=(x,y), xytext=(0,0),  textcoords='offset points')\n",
    "plt.show()"
   ]
  },
  {
   "cell_type": "markdown",
   "metadata": {},
   "source": [
    "---\n",
    "---\n",
    "# II. Kaggle Competition Report"
   ]
  },
  {
   "cell_type": "markdown",
   "metadata": {},
   "source": [
    "My approach for this sentiment classification problem includes 5 main steps: Data Preprocessing, Exploring Data, Feature Engineering, Text-CNN & Evaluation.\n",
    "\n",
    "## 1. Data Preprocessing\n",
    "\n",
    "Because the raw data file is json type, we need to convert it into dataframe in pandas for further steps.\n",
    "```python\n",
    "tweets = []\n",
    "for line in open('dm2020_hw2_nthu/tweets_DM.json', 'r'):\n",
    "        tweets.append(json.loads(line))\n",
    "df1 = pd.DataFrame(tweets)\n",
    "```\n",
    "![Snapshot](pics/pic_1.png)\n",
    "Then we have the dataframe as above, which need to parse the json column `_source` into several new columns to get the text values.\n",
    "```python\n",
    "df_parse = pd.json_normalize(df1._source)\n",
    "```\n",
    "Below is the consolidated raw data from all of files provided by Kaggle competition with 1,455,563 training samples out of total 1,867,535 rows. Also, there is no missing value in column `tweet.text` in the raw data.\n",
    "![Snapshot](pics/pic_2.png)\n",
    "## 2. Exploring Data\n",
    "### 2.1. Exploratory Data Analysis (EDA)\n",
    "There are 8 labels to classify but # samples of each label is not balanced. The model should be affected by this imbalance issue.\n",
    "![Snapshot](pics/pic_3.png)\n",
    "### 2.2. Collect Key Metrics\n",
    "```python\n",
    "df_train['nb_words'] = df_train['tweet.text'].str.split().apply(len)\n",
    "print('# samples: ',df_train.shape[0])\n",
    "print('# words per sample:', df_train.nb_words.mean())\n",
    "print('# classes:', df_train.emotion.nunique())\n",
    "```\n",
    "We can calculate several key metrics:\n",
    "- Number of samples:  1,455,563\n",
    "- Number of words per sample: 14.919947814007363\n",
    "- Number of classes: 8\n",
    "\n",
    "Therefore, `number of samples` / `number of words per sample` is greater than 1,500, we tokenize the text as sequences and use a sequence model to classify them.\n",
    "## 3. Feature Engineering\n",
    "- Because we have a huge training dataset, it is feasible to train our own word embeddings instead of pre-trained models. Before I come up with this understanding, I already tried to use other pre-trained model, including **glove.twitter.27B.zip** but it can't improve the accuracy score much.\n",
    "- Before training the **Word2vec** model, we can consider some such NLP data cleaning techniques as *lemmatization, stopwords removal, lower-casing & punctuation removal*. Actually, my accuracy score on Kaggle Public Leaderboard wasn't improved by these techniques.\n",
    "- The **Word2vec** model used in my sentiment classification, therefore, ultilize the origin column `tweet.train` of training dataset. `word_tokenize` of `nltk` lib is applied to tokenize the text into the input of w2v model because the token is suitable for tweet data and compatible with the following tokenizer step of sequence classifier model.\n",
    "\n",
    "```python\n",
    "import gensim\n",
    "from gensim.models import Word2Vec\n",
    "\n",
    "## the input type\n",
    "df_train['text_tokenized'] = df_train['tweet.text'].apply(lambda x: nltk.word_tokenize(x))\n",
    "df_train.head()\n",
    "\n",
    "#setting\n",
    "vector_dim = 100\n",
    "window_size = 5\n",
    "min_count = 1\n",
    "training_iter = 20\n",
    "\n",
    "#model\n",
    "word2vec_model = Word2Vec(sentences=df_train['text_tokenized'].values,\n",
    "                          size=vector_dim, window=window_size, \n",
    "                          min_count=min_count, iter=training_iter)\n",
    "\n",
    "#save model in ASCII (word2vec) format\n",
    "filename = 'embedding_word2vec.txt'\n",
    "word2vec_model.wv.save_word2vec_format(filename, binary=False)\n",
    "```\n",
    "We should save the w2v model as a file so we don't have to re-train again, we just need to load the model file if we want to train other classifier models in following steps but there is nothing change in this feature engineering step.\n",
    "## 4. Text-CNN\n",
    "### 4.1. Split Data\n",
    "We have to split the raw data into 3 parts: training set, validation set and testing set. The training and testing set can be splitted easily by column `identification` with value `train` or `test`. Then, I splitted the training set and the validation set with the portion of 90-10.\n",
    "```python\n",
    "df_train = df_tweets[['tweet.text','emotion']][df_tweets.identification == 'train']\n",
    "testset = df_train.sample(frac=0.1, random_state=200)\n",
    "trainset = df_train.drop(testset.index)\n",
    "```\n",
    "### 4.2. Tokenization, Sequencing & Padding\n",
    "This step is to convert from words into vectors in order to build mathematics model.\n",
    "- After using `text_to_sequence` method from Tokenization class of Keras, I got the dictionary of the corpus that contain information of the word and the index of the word.\n",
    "- Then I converted our tokenized text into sequence of word in each sentence (each sample).\n",
    "- Deep learning model can not receive different length of sentence input. So we need to make the length of all sentences the same by padding. Because I set the length to put into the model is the length of the longest tweet. If the number of words in a sentence is less than that length, padding will add 0 on the sequenced sentence.\n",
    "\n",
    "```python\n",
    "#find the longest tweet and use its length as number of embedding features\n",
    "maxlen = max([len(s.split()) for s in trainset['tweet.text']])\n",
    "\n",
    "#tokenizer, sequence & padding\n",
    "tokenizer = Tokenizer()\n",
    "tokenizer.fit_on_texts(trainset['tweet.text'])\n",
    "xtrain_word_index = tokenizer.word_index\n",
    "xtrain_sequences = tokenizer.texts_to_sequences(trainset['tweet.text'])\n",
    "X_train = pad_sequences(xtrain_sequences, maxlen, padding='pre')\n",
    "X_test = pad_sequences(tokenizer.texts_to_sequences(testset['tweet.text'].str.lower())\n",
    "                       ,maxlen, padding='pre')\n",
    "```\n",
    "### 4.3. Encode Output Labels\n",
    "We have to encode output labels as well\n",
    "```python\n",
    "#edcoding categorical label (y)\n",
    "from sklearn.preprocessing import LabelEncoder\n",
    "\n",
    "label_encoder = LabelEncoder()\n",
    "label_encoder.fit(trainset.emotion)\n",
    "print('check label: ', label_encoder.classes_)\n",
    "print('\\n## Before convert')\n",
    "print('y_train[0:4]:\\n', trainset.emotion[0:4])\n",
    "print('\\ny_train.shape: ', trainset.emotion.shape)\n",
    "print('y_test.shape: ', testset.emotion.shape)\n",
    "\n",
    "def label_encode(le, labels):\n",
    "    enc = le.transform(labels)\n",
    "    return keras.utils.to_categorical(enc)\n",
    "\n",
    "def label_decode(le, one_hot_label):\n",
    "    dec = np.argmax(one_hot_label, axis=1)\n",
    "    return le.inverse_transform(dec)\n",
    "\n",
    "y_train = label_encode(label_encoder, trainset.emotion)\n",
    "y_test = label_encode(label_encoder, testset.emotion)\n",
    "```\n",
    "### 4.4. Load Pre-trained Word Embedding\n",
    "```python\n",
    "#load embedding as a dict\n",
    "def load_embedding(filename):\n",
    "    # load embedding into memory, skip first line\n",
    "    file = open(filename,'r')\n",
    "    lines = file.readlines()[1:]\n",
    "    file.close()\n",
    "    # create a map of words to vectors\n",
    "    embedding = dict()\n",
    "    for line in lines:\n",
    "        parts = line.split()\n",
    "        # key is string word, value is numpy array for vector\n",
    "        embedding[parts[0]] = np.asarray(parts[1:], dtype='float32')\n",
    "    return embedding\n",
    "\n",
    "# create a weight matrix for the Embedding layer from a loaded embedding\n",
    "def get_weight_matrix(embedding, vocab):\n",
    "    # total vocabulary size plus 0 for unknown words\n",
    "    vocab_size = len(vocab) + 1\n",
    "    # define weight matrix dimensions with all 0\n",
    "    weight_matrix = np.zeros((vocab_size, 100))\n",
    "    # step vocab, store vectors using the Tokenizer's integer mapping\n",
    "    hits = 0\n",
    "    misses = 0\n",
    "    for word, i in vocab.items():\n",
    "        embedding_vector = embedding.get(word)\n",
    "        if embedding_vector is not None:\n",
    "            # Words not found in embedding index will be all-zeros.\n",
    "            weight_matrix[i] = embedding_vector\n",
    "            hits += 1\n",
    "        else:\n",
    "            misses += 1\n",
    "    print(\"Converted %d words (%d misses)\" % (hits, misses))\n",
    "    return weight_matrix\n",
    "\n",
    "# load embedding from pre-trained embedding file\n",
    "raw_embedding = load_embedding('embedding_word2vec.txt')\n",
    "\n",
    "# get vectors in the right order\n",
    "embedding_vectors = get_weight_matrix(raw_embedding, tokenizer.word_index)\n",
    "```\n",
    "After loading my pre-trained w2v embedding, there are 780,436 words converted with 64,644 misses.\n",
    "\n",
    "### 4.5. Define & Train Text-CNN Model\n",
    "- I already tried several NLP models and their variants, including *BiLSTM, BiLSTM-GRU, BiLSTM-GRU-Attention, seqCNN, TextCNN, MultiTextCNN & MultiTextCNN-Attention*. And I got the highest accuracy score on Leaderboard with **MultiTextCNN-Attention**, my ranking is still not good though.\n",
    "    - **MultiTextCNN** is an extension of TextCNN, stacking multiple CNNs with the same filter size. TextCNN is proposed by **Kim et al.** in their research [\"Convolutional Neural Networks for Sentence Classification\"](https://www.aclweb.org/anthology/D14-1181.pdf). The idea is to capture the most important features. The model uses multiple filters (with varying window sizes) to obtain multiple features. These features form the penultimate layer by apply a ***max-overtime pooling*** operation and are passed to a fully connected ***softmax*** layer whose output is the probability distribution over labels.\n",
    "\n",
    "\n",
    "- The model use key-value ***attention layer*** from Keras to improve the accuracy.\n",
    "- ***Softmax*** activation function & `categorical_crossentropy` cost function are used for multi-labels classification problem.\n",
    "- Also, ***dropout*** layer is added to solve overfitting issue.\n",
    "\n",
    "```python\n",
    "from keras import regularizers\n",
    "from keras.layers import MaxPooling1D, concatenate, GlobalAveragePooling1D, Attention, BatchNormalization\n",
    "from keras.layers import Activation, Input, Embedding, Reshape, Concatenate, Flatten, Dropout, Dense, Conv1D\n",
    "\n",
    "# define model\n",
    "embedding_layer = Embedding(vocab_size, 100\n",
    "                            ,weights=[embedding_vectors]\n",
    "                            ,input_length=maxlen, trainable=False)\n",
    "sequence_input = Input(shape=(input_shape,), dtype='int32')\n",
    "embedded_sequences = embedding_layer(sequence_input)\n",
    "convs = []\n",
    "filter_sizes = [2,3,4,5,6]\n",
    "for filter_size in filter_sizes:\n",
    "    conv_layer_1 = Conv1D(filters=64, \n",
    "                    kernel_size=filter_size, strides=1, padding='valid',\n",
    "                    activation='relu')(embedded_sequences)\n",
    "    bn_layer_1 = BatchNormalization()(conv_layer_1)\n",
    "    conv_layer_2 = Conv1D(filters=64, \n",
    "                    kernel_size=filter_size, strides=1, padding='valid',\n",
    "                    activation='relu')(bn_layer_1)\n",
    "    bn_layer_2 = BatchNormalization()(conv_layer_2)\n",
    "    l_pool = MaxPooling1D()(bn_layer_2)\n",
    "    flatten = Flatten()(l_pool)\n",
    "    convs.append(flatten)\n",
    "    \n",
    "l_merge = concatenate(convs, axis=1)\n",
    "x = Dropout(0.1)(l_merge)\n",
    "x = Attention()([x, x])\n",
    "x = Dense(128, activation='relu')(x)\n",
    "preds = Dense(output_shape, activation='softmax')(x)\n",
    "model = keras.Model(sequence_input, preds)\n",
    "model.compile(loss='categorical_crossentropy', optimizer='adam', metrics=['acc'])\n",
    "model.summary()\n",
    "\n",
    "# train model\n",
    "from keras.callbacks import CSVLogger\n",
    "\n",
    "csv_logger = CSVLogger('training_log.csv')\n",
    "\n",
    "num_epochs = 10\n",
    "batch_size = 32\n",
    "hist = model.fit(X_train, y_train, epochs=num_epochs\n",
    "                 ,batch_size=batch_size, callbacks=[csv_logger]\n",
    "                 ,validation_data=(X_test, y_test))\n",
    "print('training finish')\n",
    "```\n",
    "## 5. Evaluation\n",
    "I got the validation accuracy score ~0.58. And the model is not suffered a clear overfitting problem.\n",
    "![Snapshot](pics/pic_4.png)\n",
    "## Other Suggestions\n",
    "- Should try other language models, such as *BERT, RoBERTa.*\n",
    "- Find ways to deal with the imbalanced data.\n",
    "- Figure out the abnormal point in **Train Loss** chart.\n",
    "---\n",
    "## Appendix\n",
    "- Other libraries to import\n",
    "\n",
    "```python\n",
    "import pandas as pd\n",
    "import json\n",
    "import numpy as np\n",
    "import nltk\n",
    "from tensorflow import keras\n",
    "from tensorflow.keras import layers\n",
    "from keras.preprocessing.text import Tokenizer\n",
    "from keras.preprocessing.sequence import pad_sequences\n",
    "from keras.preprocessing.text import Tokenizer\n",
    "from keras.preprocessing.sequence import pad_sequences\n",
    "```\n",
    "- Prepare submission data\n",
    "\n",
    "```python\n",
    "sample_to_submit = pd.read_csv('dm2020_hw2_nthu/sampleSubmission.csv', sep = ',')\n",
    "df_test = df_tweets.merge(sample_to_submit, left_on='tweet.tweet_id', right_on='id')\n",
    "X_pred = pad_sequences(tokenizer.texts_to_sequences(df_test['tweet.text']), maxlen, padding='pre')\n",
    "\n",
    "## predict\n",
    "pred_result = model.predict(X_pred, batch_size=128)\n",
    "\n",
    "## submission file\n",
    "result_to_submit = pd.DataFrame(pred_result, columns = ['predicted_emotion'])\n",
    "submission = df_test.merge(result_to_submit, left_index=True, right_index=True)\n",
    "submission = submission[['tweet.tweet_id','predicted_emotion']]\n",
    "submission.rename(columns = {'tweet.tweet_id': 'id','predicted_emotion': 'emotion'}, inplace = True)\n",
    "submission.set_index('id', inplace=True)\n",
    "submission.to_csv('submission.csv')\n",
    "submission.shape\n",
    "```"
   ]
  },
  {
   "cell_type": "code",
   "execution_count": null,
   "metadata": {},
   "outputs": [],
   "source": []
  }
 ],
 "metadata": {
  "kernelspec": {
   "display_name": "Python 3",
   "language": "python",
   "name": "python3"
  },
  "language_info": {
   "codemirror_mode": {
    "name": "ipython",
    "version": 3
   },
   "file_extension": ".py",
   "mimetype": "text/x-python",
   "name": "python",
   "nbconvert_exporter": "python",
   "pygments_lexer": "ipython3",
   "version": "3.8.5"
  },
  "toc": {
   "base_numbering": 1,
   "nav_menu": {},
   "number_sections": false,
   "sideBar": true,
   "skip_h1_title": false,
   "title_cell": "Table of Contents",
   "title_sidebar": "Contents",
   "toc_cell": false,
   "toc_position": {
    "height": "calc(100% - 180px)",
    "left": "10px",
    "top": "150px",
    "width": "307.988px"
   },
   "toc_section_display": true,
   "toc_window_display": true
  },
  "varInspector": {
   "cols": {
    "lenName": 16,
    "lenType": 16,
    "lenVar": 40
   },
   "kernels_config": {
    "python": {
     "delete_cmd_postfix": "",
     "delete_cmd_prefix": "del ",
     "library": "var_list.py",
     "varRefreshCmd": "print(var_dic_list())"
    },
    "r": {
     "delete_cmd_postfix": ") ",
     "delete_cmd_prefix": "rm(",
     "library": "var_list.r",
     "varRefreshCmd": "cat(var_dic_list()) "
    }
   },
   "types_to_exclude": [
    "module",
    "function",
    "builtin_function_or_method",
    "instance",
    "_Feature"
   ],
   "window_display": false
  }
 },
 "nbformat": 4,
 "nbformat_minor": 2
}
